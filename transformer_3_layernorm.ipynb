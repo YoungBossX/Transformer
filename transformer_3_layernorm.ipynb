{
 "cells": [
  {
   "cell_type": "code",
   "id": "initial_id",
   "metadata": {
    "collapsed": true,
    "ExecuteTime": {
     "end_time": "2025-05-15T13:34:28.343960Z",
     "start_time": "2025-05-15T13:34:28.336968Z"
    }
   },
   "source": [
    "import torch\n",
    "from torch import nn"
   ],
   "outputs": [],
   "execution_count": 2
  },
  {
   "metadata": {
    "ExecuteTime": {
     "end_time": "2025-05-15T13:51:06.602596Z",
     "start_time": "2025-05-15T13:51:06.589598Z"
    }
   },
   "cell_type": "code",
   "source": [
    "class LayerNorm(nn.Module):\n",
    "    def __init__(self, d_model, eps=1e-12):\n",
    "        super(LayerNorm, self).__init__()\n",
    "        self.gama = nn.Parameter(torch.ones(d_model))\n",
    "        self.beta = nn.Parameter(torch.zeros(d_model))\n",
    "        self.eps = eps\n",
    "\n",
    "    def forward(self, x):\n",
    "        mean = x.mean(dim=-1, keepdim=True)\n",
    "        var = x.var(-1, unbiased=False, keepdim=True)\n",
    "        out = (x - mean) / (torch.sqrt(var + self.eps))\n",
    "        return self.gama * out + self.beta"
   ],
   "id": "8b2f9c0ee927eae4",
   "outputs": [],
   "execution_count": 14
  },
  {
   "metadata": {
    "ExecuteTime": {
     "end_time": "2025-05-15T13:51:08.788006Z",
     "start_time": "2025-05-15T13:51:08.778007Z"
    }
   },
   "cell_type": "code",
   "source": [
    "x = torch.rand(1, 2, 3) # (batch_size, seq_len, d_model）\n",
    "layer_norm = LayerNorm(d_model=3)\n",
    "output = layer_norm(x)\n",
    "print(\"归一化前：\", x)\n",
    "print(\"归一化后：\", output)\n",
    "print(\"输出形状：\", output.shape)"
   ],
   "id": "a7bf336381e75bf5",
   "outputs": [
    {
     "name": "stdout",
     "output_type": "stream",
     "text": [
      "归一化前： tensor([[[0.0784, 0.7930, 0.3239],\n",
      "         [0.7506, 0.8482, 0.8267]]])\n",
      "归一化后： tensor([[[-1.0795,  1.3309, -0.2514],\n",
      "         [-1.3827,  0.9484,  0.4344]]], grad_fn=<AddBackward0>)\n",
      "输出形状： torch.Size([1, 2, 3])\n"
     ]
    }
   ],
   "execution_count": 15
  }
 ],
 "metadata": {
  "kernelspec": {
   "display_name": "Python [conda env:pytorch_env] *",
   "language": "python",
   "name": "conda-env-pytorch_env-py"
  },
  "language_info": {
   "codemirror_mode": {
    "name": "ipython",
    "version": 2
   },
   "file_extension": ".py",
   "mimetype": "text/x-python",
   "name": "python",
   "nbconvert_exporter": "python",
   "pygments_lexer": "ipython2",
   "version": "2.7.6"
  }
 },
 "nbformat": 4,
 "nbformat_minor": 5
}
