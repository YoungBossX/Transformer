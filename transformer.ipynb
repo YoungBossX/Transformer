{
 "cells": [
  {
   "cell_type": "code",
   "execution_count": 2,
   "id": "71d49ac6",
   "metadata": {},
   "outputs": [],
   "source": [
    "import torch\n",
    "from torch import Tensor\n",
    "from torch import nn\n",
    "import torch.nn.functional as F\n",
    "import math"
   ]
  },
  {
   "cell_type": "code",
   "execution_count": 5,
   "id": "e588c873",
   "metadata": {},
   "outputs": [],
   "source": [
    "    class TokenEmbedding(nn.Module):\n",
    "        def __init__(self, vocab_size, d_model):\n",
    "            super(TokenEmbedding, self).__init__(vocab_size, d_model, padding_idx=1)\n"
   ]
  },
  {
   "cell_type": "code",
   "execution_count": 7,
   "id": "e1b9792a",
   "metadata": {},
   "outputs": [],
   "source": [
    "class PositionalEmbedding(nn.Module):\n",
    "    def __init__(self, d_model, max_len, device):\n",
    "        super(PositionalEmbedding, self).__init__()\n",
    "        self.encoding = torch.zeros(max_len, d_model, device=device)\n",
    "        self.encoding.require_grad = False\n",
    "        pos = torch.arange(0, max_len, dtype=torch.float, device=device)\n",
    "        pos = pos.unsqueeze(1)\n",
    "        _2i = torch.arange(0, d_model, 2, dtype=torch.float, device=device)\n",
    "        self.encoding[:, 0::2] = torch.sin(pos / (10000 ** (_2i / d_model)))\n",
    "        self.encoding[:, 1::2] = torch.cos(pos / (10000 ** (_2i / d_model)))\n",
    "\n",
    "    def forward(self, x):\n",
    "        batch_size, seq_len = x.size()\n",
    "        return self.encoding[:seq_len, :]"
   ]
  },
  {
   "cell_type": "code",
   "execution_count": null,
   "id": "37302eb6",
   "metadata": {},
   "outputs": [],
   "source": [
    "class TransformerEmbedding(nn.Module):\n",
    "    def __init__(self, vocab_size, d_model, max_len, drop_prob, device):\n",
    "        super(TransformerEmbedding, self).__init__()\n",
    "        self.token_embedding = TokenEmbedding(vocab_size, d_model)\n",
    "        self.positional_embedding = PositionalEmbedding(d_model, max_len, device)\n",
    "        self.dropout = nn.Dropout(p = drop_prob) \n",
    "\n",
    "    def forward(self, x):\n",
    "        token_embedding = self.token_embedding(x)\n",
    "        positional_embedding = self.positional_embedding(x)\n",
    "        return self.dropout(token_embedding + positional_embedding)"
   ]
  }
 ],
 "metadata": {
  "kernelspec": {
   "display_name": "pytorch_env",
   "language": "python",
   "name": "python3"
  },
  "language_info": {
   "codemirror_mode": {
    "name": "ipython",
    "version": 3
   },
   "file_extension": ".py",
   "mimetype": "text/x-python",
   "name": "python",
   "nbconvert_exporter": "python",
   "pygments_lexer": "ipython3",
   "version": "3.10.16"
  }
 },
 "nbformat": 4,
 "nbformat_minor": 5
}
