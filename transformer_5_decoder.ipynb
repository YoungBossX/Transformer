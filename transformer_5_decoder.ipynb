{
 "cells": [
  {
   "cell_type": "code",
   "execution_count": 21,
   "metadata": {},
   "outputs": [],
   "source": [
    "import torch\n",
    "import torch.nn as nn\n",
    "import torch.nn.functional as F\n",
    "import math"
   ]
  },
  {
   "cell_type": "code",
   "execution_count": 22,
   "metadata": {},
   "outputs": [],
   "source": [
    "class TokenEmbedding(nn.Module):\n",
    "    def __init__(self, vocab_size, d_model, device):\n",
    "        super(TokenEmbedding, self).__init__()\n",
    "        self.embedding = nn.Embedding(vocab_size, d_model, device=device) # (vocab_size, d_model)\n",
    "\n",
    "    def forward(self, x):\n",
    "        x = self.embedding(x)\n",
    "        return x\n",
    "\n",
    "class PositionalEmbedding(nn.Module):\n",
    "    def __init__(self, d_model, max_len, device):\n",
    "        super(PositionalEmbedding, self).__init__()\n",
    "        self.encoding = torch.zeros(max_len, d_model, device=device)\n",
    "        self.encoding.require_grad = False # 位置编码不需要梯度\n",
    "        pos = torch.arange(0, max_len, dtype=torch.float, device=device)\n",
    "        pos = pos.unsqueeze(1)\n",
    "        _2i = torch.arange(0, d_model, 2, dtype=torch.float, device=device)\n",
    "        self.encoding[:, 0::2] = torch.sin(pos / (10000 ** (_2i / d_model)))\n",
    "        self.encoding[:, 1::2] = torch.cos(pos / (10000 ** (_2i / d_model)))\n",
    "\n",
    "    def forward(self, x):\n",
    "        batch_size, seq_len = x.size()\n",
    "        return self.encoding[:seq_len, :]\n",
    "    \n",
    "class TransformerEmbedding(nn.Module):\n",
    "    def __init__(self, vocab_size, d_model, max_len, dropout, device):\n",
    "        super(TransformerEmbedding, self).__init__()\n",
    "        self.token_embedding = TokenEmbedding(vocab_size, d_model, device)\n",
    "        self.positional_embedding = PositionalEmbedding(d_model, max_len, device)\n",
    "        self.dropout = nn.Dropout(p = dropout) \n",
    "\n",
    "    def forward(self, x):\n",
    "        token_embedding = self.token_embedding(x)\n",
    "        positional_embedding = self.positional_embedding(x)\n",
    "        return self.dropout(token_embedding + positional_embedding) # (batch_size, tokens, d_model)"
   ]
  },
  {
   "cell_type": "code",
   "execution_count": 23,
   "metadata": {},
   "outputs": [],
   "source": [
    "class MultiHeadAttention(nn.Module):\n",
    "    def __init__(self, d_model, n_head, device):\n",
    "        super(MultiHeadAttention, self).__init__()\n",
    "        self.d_model = d_model\n",
    "        self.n_head = n_head\n",
    "        self.W_q = nn.Linear(d_model, d_model, bias=False, device=device)\n",
    "        self.W_k = nn.Linear(d_model, d_model, bias=False, device=device)\n",
    "        self.W_v = nn.Linear(d_model, d_model, bias=False, device=device)\n",
    "        self.concat = nn.Linear(d_model, d_model, bias=False, device=device)\n",
    "        self.softmax = nn.Softmax(dim=-1)\n",
    "\n",
    "    def forward(self, encodings_for_q, encodings_for_k, encodings_for_v, mask):\n",
    "        # encodings_for_q: (batch, seq_len, d_model)\n",
    "        # encodings_for_k: (batch, seq_len, d_model)\n",
    "        # encodings_for_v: (batch, seq_len, d_model)\n",
    "        batch, seq_len, d_model = encodings_for_q.size()\n",
    "        n_d = self.d_model // self.n_head\n",
    "        Q = self.W_q(encodings_for_q)\n",
    "        K = self.W_k(encodings_for_k)\n",
    "        V = self.W_v(encodings_for_v)\n",
    "        Q = Q.view(batch, seq_len, self.n_head, n_d).permute(0, 2, 1, 3) # (batch, n_head, seq_len, d_model)\n",
    "        K = K.view(batch, seq_len, self.n_head, n_d).permute(0, 2, 1, 3) # (batch, n_head, seq_len, d_model)\n",
    "        V = V.view(batch, seq_len, self.n_head, n_d).permute(0, 2, 1, 3) # (batch, n_head, seq_len, d_model)\n",
    "        scaled_sims = Q@K.transpose(2, 3) / torch.sqrt(torch.tensor(n_d))\n",
    "        if mask is not None:\n",
    "            scaled_sims = scaled_sims.masked_fill(mask == 0, -1e9)\n",
    "        attention_percent = self.softmax(scaled_sims)\n",
    "        attention_scores = attention_percent@V # (batch_size, n_head, seq_len, d_model)\n",
    "        attention_scores = attention_scores.permute(0, 2, 1, 3).contiguous().view(batch, seq_len, d_model) # (batch, seq_len, d_model)\n",
    "\n",
    "        return self.concat(attention_scores) # (batch_size, seq_len, d_model)"
   ]
  },
  {
   "cell_type": "code",
   "execution_count": 24,
   "metadata": {},
   "outputs": [],
   "source": [
    "class PositionwiseFeedForward(nn.Module):\n",
    "    def __init__(self, d_model, hidden, dropout, device):\n",
    "        super(PositionwiseFeedForward, self).__init__()\n",
    "        self.fc1 = nn.Linear(d_model, hidden, device=device)\n",
    "        self.fc2 = nn.Linear(hidden, d_model, device=device)\n",
    "        self.dropout = nn.Dropout(dropout)\n",
    "    def forward(self, x):\n",
    "        x = self.fc1(x)\n",
    "        x = F.relu(x)\n",
    "        x = self.dropout(x)\n",
    "        x = self.fc2(x)\n",
    "        return x # (batch_size, seq_len, d_model)"
   ]
  },
  {
   "cell_type": "code",
   "execution_count": 36,
   "metadata": {},
   "outputs": [],
   "source": [
    "class DecoderLayer(nn.Module):\n",
    "    def __init__(self, d_model, ffn_hidden, n_head, dropout, device):\n",
    "        super(DecoderLayer, self).__init__()\n",
    "        self.attention1 = MultiHeadAttention(d_model, n_head, device)\n",
    "        self.norm1 = nn.LayerNorm(d_model, device=device)\n",
    "        self.dropout1 = nn.Dropout(dropout)\n",
    "        self.cross_attention = MultiHeadAttention(d_model, n_head, device)\n",
    "        self.norm2 = nn.LayerNorm(d_model, device=device)\n",
    "        self.dropout2 = nn.Dropout(dropout)\n",
    "        self.ffn = PositionwiseFeedForward(d_model, ffn_hidden, dropout, device)\n",
    "        self.norm3 = nn.LayerNorm(d_model, device=device)\n",
    "        self.dropout3 = nn.Dropout(dropout)\n",
    "        \n",
    "    def forward(self, encoder_output, decoder_input, t_mask, s_mask):\n",
    "        _x = decoder_input\n",
    "        x = self.attention1(decoder_input, decoder_input, decoder_input, t_mask)\n",
    "        x = self.dropout1(x)\n",
    "        x = self.norm1(x + _x)\n",
    "        _x = x\n",
    "        x = self.cross_attention(encoder_output, encoder_output, x, s_mask)\n",
    "        x = self.dropout2(x)\n",
    "        x = self.norm2(x + _x)\n",
    "        x = self.ffn(x)\n",
    "        x = self.dropout3(x)\n",
    "        x = self.norm3(x + _x)\n",
    "        return x "
   ]
  },
  {
   "cell_type": "code",
   "execution_count": 31,
   "metadata": {},
   "outputs": [],
   "source": [
    "class Decoder(nn.Module):\n",
    "    def __init__(self, decoder_vocab_size, max_len, d_model, ffn_hidden, n_head, n_layer, dropout, device):\n",
    "        super(Decoder, self).__init__()\n",
    "        self.embedding = TransformerEmbedding(decoder_vocab_size, d_model, max_len, dropout, device)\n",
    "        self.decoder_layers = nn.ModuleList(\n",
    "            [\n",
    "                DecoderLayer(d_model, ffn_hidden, n_head, dropout, device) for _ in range(n_layer)  \n",
    "            ]\n",
    "        )\n",
    "        self.fc = nn.Linear(d_model, decoder_vocab_size, device=device)\n",
    "        \n",
    "    def forward(self, encoder_output, decoder_output, t_mask, s_mask):\n",
    "        decoder_output = self.embedding(decoder_output)\n",
    "        for decoder_layer in self.decoder_layers:\n",
    "            decoder_output = decoder_layer(decoder_output, encoder_output, t_mask, s_mask)\n",
    "        decoder_output = self.fc(decoder_output)\n",
    "        return decoder_output\n",
    "        "
   ]
  },
  {
   "cell_type": "code",
   "execution_count": 39,
   "metadata": {},
   "outputs": [
    {
     "name": "stdout",
     "output_type": "stream",
     "text": [
      "输入的数据类型: torch.float32\n",
      "输出形状: torch.Size([2, 12, 100])\n"
     ]
    }
   ],
   "source": [
    "decoder_vocab_size = 100\n",
    "max_len = 20\n",
    "d_model = 64\n",
    "n_head = 8\n",
    "ffn_hidden = 64\n",
    "n_layer = 2\n",
    "device = torch.device(\"cuda\")\n",
    "dropout = 0.1\n",
    "t_mask = None\n",
    "s_mask = None\n",
    "\n",
    "decoder = Decoder(decoder_vocab_size, max_len, d_model, ffn_hidden, n_head, n_layer, dropout, device)\n",
    "\n",
    "encoder_output = torch.randn(2, 12, d_model, device=device) \n",
    "decoder_input = torch.randint(0, decoder_vocab_size, (2, 12), device=device)\n",
    "\n",
    "output = decoder(encoder_output, decoder_input, t_mask, s_mask)\n",
    "print('输入的数据类型:', output.dtype)\n",
    "print('输出形状:', output.shape)"
   ]
  }
 ],
 "metadata": {
  "kernelspec": {
   "display_name": "pytorch_env",
   "language": "python",
   "name": "python3"
  },
  "language_info": {
   "codemirror_mode": {
    "name": "ipython",
    "version": 3
   },
   "file_extension": ".py",
   "mimetype": "text/x-python",
   "name": "python",
   "nbconvert_exporter": "python",
   "pygments_lexer": "ipython3",
   "version": "3.10.15"
  }
 },
 "nbformat": 4,
 "nbformat_minor": 2
}
