{
 "cells": [
  {
   "cell_type": "code",
   "execution_count": 1,
   "id": "a0394c10",
   "metadata": {},
   "outputs": [],
   "source": [
    "import torch\n",
    "import torch.nn as nn\n",
    "import torch.nn.functional as F"
   ]
  },
  {
   "cell_type": "code",
   "execution_count": 2,
   "id": "3118d31e",
   "metadata": {},
   "outputs": [],
   "source": [
    "class Attention(nn.Module):\n",
    "    def __init__(self, d_model=2, row_dim=0, col_dim=1):\n",
    "        super(Attention, self).__init__()\n",
    "        self.W_q = nn.Linear(d_model, d_model, bias=False)\n",
    "        self.W_k = nn.Linear(d_model, d_model, bias=False)\n",
    "        self.W_v = nn.Linear(d_model, d_model, bias=False)\n",
    "        self.row_dim = row_dim\n",
    "        self.col_dim = col_dim\n",
    "    \n",
    "    def forward(self, encodings_for_q, encodings_for_k, ncodings_for_v, mask=None):\n",
    "        Q = self.W_q(encodings_for_q)\n",
    "        K = self.W_k(encodings_for_k)\n",
    "        V = self.W_v(ncodings_for_v)\n",
    "        \n",
    "        sims = torch.matmul(Q, K.transpose(dim0=self.row_dim, dim1=self.col_dim))\n",
    "        scaled_sims = sims / torch.tensor(K.size(self.col_dim) ** 0.5)\n",
    "        if mask is not None:\n",
    "            scaled_sims = scaled_sims.masked_fill(mask=mask, value=-1e9)\n",
    "        attention_percent = F.softmax(scaled_sims, dim=self.col_dim)\n",
    "        attention_scores = torch.matmul(attention_percent, V)\n",
    "        \n",
    "        return attention_scores"
   ]
  },
  {
   "cell_type": "code",
   "execution_count": 4,
   "id": "9d6c164a",
   "metadata": {},
   "outputs": [
    {
     "data": {
      "text/plain": [
       "tensor([[1.0100, 1.0641],\n",
       "        [0.2040, 0.7057],\n",
       "        [3.4989, 2.2427]], grad_fn=<MmBackward0>)"
      ]
     },
     "execution_count": 4,
     "metadata": {},
     "output_type": "execute_result"
    }
   ],
   "source": [
    "ecodings_for_q = torch.tensor([[1.16, 0.23],\n",
    "                            [0.57, 1.36],\n",
    "                            [4.41, -2.16]])\n",
    "ecodings_for_k = torch.tensor([[1.16, 0.23],\n",
    "                            [0.57, 1.36],\n",
    "                            [4.41, -2.16]])\n",
    "ecodings_for_v = torch.tensor([[1.16, 0.23],\n",
    "                            [0.57, 1.36],\n",
    "                            [4.41, -2.16]])\n",
    "torch.manual_seed(42)\n",
    "\n",
    "attention = Attention(d_model=2, row_dim=0, col_dim=1)\n",
    "attention(ecodings_for_k, ecodings_for_k, ecodings_for_v)"
   ]
  },
  {
   "cell_type": "code",
   "execution_count": 5,
   "id": "76b81fd1",
   "metadata": {},
   "outputs": [],
   "source": [
    "class MutiHeadAttention(nn.Module):\n",
    "    def __init__(self, d_model=2, n_heads=2, row_dim=0, col_dim=1, num_heads=1):\n",
    "        super(MutiHeadAttention, self).__init__()\n",
    "        self.heads = nn.ModuleList(\n",
    "            [Attention(d_model, row_dim, col_dim) for _ in range(num_heads)]\n",
    "            )\n",
    "        self.col_dim = col_dim\n",
    "    \n",
    "    def forward(self, encodings_for_q, encodings_for_k, encodings_for_v):\n",
    "        return torch.cat([head(encodings_for_q, encodings_for_k, encodings_for_v) for head in self.heads], dim=self.col_dim)"
   ]
  },
  {
   "cell_type": "code",
   "execution_count": 7,
   "id": "ea9a3a31",
   "metadata": {},
   "outputs": [
    {
     "data": {
      "text/plain": [
       "tensor([[1.0100, 1.0641],\n",
       "        [0.2040, 0.7057],\n",
       "        [3.4989, 2.2427]], grad_fn=<CatBackward0>)"
      ]
     },
     "execution_count": 7,
     "metadata": {},
     "output_type": "execute_result"
    }
   ],
   "source": [
    "torch.manual_seed(42)\n",
    "mutiHeadAttention = MutiHeadAttention(d_model=2, n_heads=2, row_dim=0, col_dim=1, num_heads=1)\n",
    "mutiHeadAttention(ecodings_for_k, ecodings_for_k, ecodings_for_v)"
   ]
  },
  {
   "cell_type": "code",
   "execution_count": 8,
   "id": "db0e8c08",
   "metadata": {},
   "outputs": [
    {
     "data": {
      "text/plain": [
       "tensor([[ 1.0100,  1.0641, -0.7081, -0.8268],\n",
       "        [ 0.2040,  0.7057, -0.7417, -0.9193],\n",
       "        [ 3.4989,  2.2427, -0.7190, -0.8447]], grad_fn=<CatBackward0>)"
      ]
     },
     "execution_count": 8,
     "metadata": {},
     "output_type": "execute_result"
    }
   ],
   "source": [
    "torch.manual_seed(42)\n",
    "mutiHeadAttention = MutiHeadAttention(d_model=2, n_heads=2, row_dim=0, col_dim=1, num_heads=2)\n",
    "mutiHeadAttention(ecodings_for_k, ecodings_for_k, ecodings_for_v)"
   ]
  }
 ],
 "metadata": {
  "kernelspec": {
   "display_name": "pytorch_env",
   "language": "python",
   "name": "python3"
  },
  "language_info": {
   "codemirror_mode": {
    "name": "ipython",
    "version": 3
   },
   "file_extension": ".py",
   "mimetype": "text/x-python",
   "name": "python",
   "nbconvert_exporter": "python",
   "pygments_lexer": "ipython3",
   "version": "3.10.15"
  }
 },
 "nbformat": 4,
 "nbformat_minor": 5
}
