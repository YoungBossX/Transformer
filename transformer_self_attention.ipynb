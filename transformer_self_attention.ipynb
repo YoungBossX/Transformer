{
 "cells": [
  {
   "cell_type": "code",
   "execution_count": 1,
   "id": "1aa95f93",
   "metadata": {
    "ExecuteTime": {
     "end_time": "2025-05-07T15:57:59.344877Z",
     "start_time": "2025-05-07T15:57:55.553371Z"
    }
   },
   "outputs": [],
   "source": [
    "import torch\n",
    "import torch.nn as nn\n",
    "import torch.nn.functional as F"
   ]
  },
  {
   "cell_type": "code",
   "execution_count": 6,
   "id": "99f2449f",
   "metadata": {
    "ExecuteTime": {
     "end_time": "2025-05-07T15:58:32.795120Z",
     "start_time": "2025-05-07T15:58:32.789024Z"
    }
   },
   "outputs": [],
   "source": [
    "class SelfAttention(nn.Module):\n",
    "    def __init__(self, d_model=2, row_dim=0, col_dim=1): # d_model is the dimension of the input features\n",
    "        super(SelfAttention, self).__init__()\n",
    "        self.W_q = nn.Linear(d_model, d_model, bias=False)\n",
    "        self.W_k = nn.Linear(d_model, d_model, bias=False)\n",
    "        self.W_v = nn.Linear(d_model, d_model, bias=False)\n",
    "        self.row_dim = row_dim\n",
    "        self.col_dim = col_dim\n",
    "\n",
    "    def forward(self, x):\n",
    "        q = self.W_q(x)\n",
    "        k = self.W_k(x)\n",
    "        v = self.W_v(x)\n",
    "        sims = torch.matmul(q, k.transpose(dim0=self.row_dim, dim1=self.col_dim))\n",
    "        scaled_sims = sims / torch.tensor(k.size(self.col_dim) ** 0.5)\n",
    "        attention_percents = F.softmax(scaled_sims, dim=self.col_dim)\n",
    "        attention_scores = torch.matmul(attention_percents, v)\n",
    "        return attention_scores"
   ]
  },
  {
   "cell_type": "code",
   "execution_count": 9,
   "id": "d7f793fe",
   "metadata": {
    "ExecuteTime": {
     "end_time": "2025-05-07T15:59:41.738973Z",
     "start_time": "2025-05-07T15:59:41.718974Z"
    }
   },
   "outputs": [
    {
     "name": "stdout",
     "output_type": "stream",
     "text": [
      "tensor([[1.0100, 1.0641],\n",
      "        [0.2040, 0.7057],\n",
      "        [3.4989, 2.2427]], grad_fn=<MmBackward0>)\n"
     ]
    }
   ],
   "source": [
    "ecodings_matrix = torch.tensor([[1.16, 0.23],\n",
    "                            [0.57, 1.36],\n",
    "                            [4.41, -2.16]]) # Example input tensor\n",
    "torch.manual_seed(42) # Set random seed for reproducibility\n",
    "self_attention = SelfAttention(d_model=2, row_dim=0, col_dim=1) # Initialize the self-attention module\n",
    "print(self_attention(ecodings_matrix))"
   ]
  },
  {
   "cell_type": "code",
   "execution_count": 8,
   "id": "6decb8db",
   "metadata": {
    "ExecuteTime": {
     "end_time": "2025-05-07T15:58:53.104592Z",
     "start_time": "2025-05-07T15:58:53.086388Z"
    }
   },
   "outputs": [
    {
     "name": "stdout",
     "output_type": "stream",
     "text": [
      "W_q weight matrix:\n",
      " tensor([[ 0.5406, -0.1657],\n",
      "        [ 0.5869,  0.6496]], grad_fn=<TransposeBackward0>)\n",
      "W_k weight matrix:\n",
      " tensor([[-0.1549, -0.3443],\n",
      "        [ 0.1427,  0.4153]], grad_fn=<TransposeBackward0>)\n",
      "W_v weight matrix:\n",
      " tensor([[ 0.6233,  0.6146],\n",
      "        [-0.5188,  0.1323]], grad_fn=<TransposeBackward0>)\n"
     ]
    }
   ],
   "source": [
    "print(\"W_q weight matrix:\\n\", self_attention.W_q.weight.transpose(0, 1))\n",
    "print(\"W_k weight matrix:\\n\", self_attention.W_k.weight.transpose(0, 1))\n",
    "print(\"W_v weight matrix:\\n\", self_attention.W_v.weight.transpose(0, 1))"
   ]
  }
 ],
 "metadata": {
  "kernelspec": {
   "display_name": "pytorch_env",
   "language": "python",
   "name": "python3"
  },
  "language_info": {
   "codemirror_mode": {
    "name": "ipython",
    "version": 3
   },
   "file_extension": ".py",
   "mimetype": "text/x-python",
   "name": "python",
   "nbconvert_exporter": "python",
   "pygments_lexer": "ipython3",
   "version": "3.10.16"
  }
 },
 "nbformat": 4,
 "nbformat_minor": 5
}
